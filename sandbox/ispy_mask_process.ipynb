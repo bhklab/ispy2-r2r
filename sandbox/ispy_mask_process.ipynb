{
 "cells": [
  {
   "cell_type": "markdown",
   "id": "1d2dc598",
   "metadata": {},
   "source": [
    "# Mask Processing from DICOM"
   ]
  },
  {
   "cell_type": "code",
   "execution_count": 3,
   "id": "1e05c1f7",
   "metadata": {},
   "outputs": [
    {
     "name": "stderr",
     "output_type": "stream",
     "text": [
      "/Users/katyscott/Documents/BHKLab_GitHub/ispy2_r2r/.pixi/envs/default/lib/python3.12/site-packages/tqdm/auto.py:21: TqdmWarning: IProgress not found. Please update jupyter and ipywidgets. See https://ipywidgets.readthedocs.io/en/stable/user_install.html\n",
      "  from .autonotebook import tqdm as notebook_tqdm\n"
     ]
    }
   ],
   "source": [
    "from pathlib import Path\n",
    "from damply import dirs\n",
    "import SimpleITK as sitk\n",
    "\n",
    "from readii.loaders import loadDicomSITK\n",
    "from readii.image_processing import flattenImage\n",
    "\n",
    "import numpy as np\n",
    "import pandas as pd\n",
    "\n",
    "from imgtools.coretypes.imagetypes.scan import read_dicom_scan\n",
    "from imgtools.dicom import load_dicom"
   ]
  },
  {
   "cell_type": "code",
   "execution_count": 4,
   "id": "325856c7",
   "metadata": {},
   "outputs": [],
   "source": [
    "mit_index = pd.read_csv(dirs.PROCDATA / \"TCIA_ISPY2/images/mit_ISPY2/mit_ISPY2_index.csv\")\n",
    "\n",
    "mask_dicom_file = Path( dirs.RAWDATA / \"TCIA_ISPY2/images/ISPY2/ISPY2-100899/10-26-2002-100899T0-ISPY2MRIT0-88595/51900.000000-ISPY2 VOLSER uni-lateral cropped Analysis Mask-78091/1-1.dcm\")\n",
    "image_dicom_dir = Path( dirs.RAWDATA / \"TCIA_ISPY2/images/ISPY2/ISPY2-100899/10-26-2002-100899T0-ISPY2MRIT0-88595/51800.000000-ISPY2 VOLSER uni-lateral cropped original DCE-30523\")"
   ]
  },
  {
   "cell_type": "code",
   "execution_count": 82,
   "id": "163e8e04",
   "metadata": {},
   "outputs": [],
   "source": [
    "from imgtools.dicom.dicom_metadata import extract_metadata\n",
    "\n",
    "mask_metadata = extract_metadata(mask_dicom_file)\n",
    "mask_slice_ids = mask_metadata['ReferencedSOPUIDs']"
   ]
  },
  {
   "cell_type": "code",
   "execution_count": 83,
   "id": "475866f6",
   "metadata": {},
   "outputs": [],
   "source": [
    "image_slice_ids = []\n",
    "image_indices = []\n",
    "\n",
    "for image_dicom_file in sorted(image_dicom_dir.glob(\"*.dcm\")):\n",
    "    image_metadata = load_dicom(image_dicom_file, stop_before_pixels=True)\n",
    "    image_indices.append(str(image_metadata.get(\"InstanceNumber\", \"\")))\n",
    "    image_slice_ids.append(str(image_metadata.get(\"SOPInstanceUID\", \"\")))"
   ]
  },
  {
   "cell_type": "code",
   "execution_count": null,
   "id": "ff0fffbe",
   "metadata": {},
   "outputs": [],
   "source": [
    "image_slices_pd = pd.Series(data=image_slice_ids, index=image_indices)\n",
    "\n",
    "image_slices_pd[image_slices_pd.isin(mask_slice_ids)]"
   ]
  },
  {
   "cell_type": "code",
   "execution_count": null,
   "id": "462228ea",
   "metadata": {},
   "outputs": [],
   "source": [
    "image_slices_pd.iloc[40:50]"
   ]
  },
  {
   "cell_type": "markdown",
   "id": "7c81602d",
   "metadata": {},
   "source": [
    "# Saving out fixed DICOM SEG"
   ]
  },
  {
   "cell_type": "code",
   "execution_count": 91,
   "id": "a3a7cb8b",
   "metadata": {},
   "outputs": [],
   "source": [
    "import highdicom as hd\n",
    "from pydicom.sr.codedict import codes\n",
    "\n",
    "image_files = image_dicom_dir.glob(\"*.dcm\")\n",
    "\n",
    "image_datasets = [hd.imread(str(f)) for f in image_files]\n",
    "\n",
    "mask = hd.seg.segread(mask_dicom_file)\n",
    "\n",
    "mask_pixels = mask.pixel_array\n",
    "\n",
    "roi_only = np.where(mask_pixels == 0, 1, 0).astype(np.uint8)\n"
   ]
  },
  {
   "cell_type": "code",
   "execution_count": null,
   "id": "ef46d27d",
   "metadata": {},
   "outputs": [],
   "source": [
    "cropped_image = []\n",
    "                 \n",
    "for image_dicom_file in image_datasets:\n",
    "    if image_dicom_file.SOPInstanceUID in mask_slice_ids:\n",
    "        cropped_image.append(image_dicom_file)"
   ]
  },
  {
   "cell_type": "code",
   "execution_count": 96,
   "id": "5ff0e9a9",
   "metadata": {},
   "outputs": [
    {
     "data": {
      "text/plain": [
       "80"
      ]
     },
     "execution_count": 96,
     "metadata": {},
     "output_type": "execute_result"
    }
   ],
   "source": [
    "len(cropped_image)"
   ]
  },
  {
   "cell_type": "code",
   "execution_count": null,
   "id": "26157d92",
   "metadata": {},
   "outputs": [],
   "source": [
    "\n",
    "\n",
    "algorithm_identification = hd.AlgorithmIdentificationSequence(\n",
    "    name='Background Threshold, PE threshold and connectivity filter',\n",
    "    version='v1.0',\n",
    "    family=codes.cid7162.AdaptiveFiltering\n",
    ")\n",
    "\n",
    "\n",
    "tumour_segment_description = hd.seg.SegmentDescription(\n",
    "    segment_number=1,\n",
    "    segment_label='Tumor',\n",
    "    segmented_property_category=codes.cid7150.Tissue,\n",
    "    segmented_property_type=codes.cid7151.Breast,\n",
    "    algorithm_type=hd.seg.SegmentAlgorithmTypeValues.SEMIAUTOMATIC,\n",
    "    algorithm_identification=algorithm_identification\n",
    ")\n",
    "\n",
    "tumor_dataset = hd.seg.Segmentation(\n",
    "    source_images = cropped_image,\n",
    "    pixel_array=roi_only,\n",
    "    segmentation_type=hd.seg.SegmentationTypeValues.BINARY,\n",
    "    segment_descriptions=[tumour_segment_description],\n",
    "    series_instance_uid=hd.UID(),\n",
    "    series_number=2,\n",
    "    sop_instance_uid=hd.UID(),\n",
    "    instance_number=1,\n",
    "    manufacturer=\"GE MEDICAL SYSTEMS\",\n",
    "    manufacturer_model_name=\"Signa HDxt\",\n",
    "    software_versions='220',\n",
    "    device_serial_number='Device XYZ',\n",
    "    series_description='Binarized VOLSER Analysis Mask',\n",
    "    omit_empty_frames=False\n",
    ")"
   ]
  },
  {
   "cell_type": "code",
   "execution_count": 104,
   "id": "14a8bbef",
   "metadata": {},
   "outputs": [],
   "source": [
    "out_path = dirs.PROCDATA / \"TCIA_ISPY2/images/tumour_only_dicom_masks/ISPY2-100899/10-26-2002-100899T0-ISPY2MRIT0-88595/51900.000000-ISPY2 VOLSER uni-lateral cropped Analysis Mask-78091/1-1.dcm\"\n",
    "out_path.parent.mkdir(parents = True, exist_ok= True)\n",
    "\n",
    "tumor_dataset.save_as(dirs.PROCDATA / \"TCIA_ISPY2/images/tumour_only_dicom_masks/ISPY2-100899/10-26-2002-100899T0-ISPY2MRIT0-88595/51900.000000-ISPY2 VOLSER uni-lateral cropped Analysis Mask-78091/1-1.dcm\")"
   ]
  },
  {
   "cell_type": "code",
   "execution_count": null,
   "id": "767aeb80",
   "metadata": {},
   "outputs": [],
   "source": [
    "cropped_image"
   ]
  },
  {
   "cell_type": "code",
   "execution_count": null,
   "id": "65f3d377",
   "metadata": {},
   "outputs": [],
   "source": [
    "hd.seg.Segmentation(\n",
    "    source_images=image_datasets,\n",
    "    pixel_array=tumour_only\n",
    ")"
   ]
  }
 ],
 "metadata": {
  "kernelspec": {
   "display_name": "default",
   "language": "python",
   "name": "python3"
  },
  "language_info": {
   "codemirror_mode": {
    "name": "ipython",
    "version": 3
   },
   "file_extension": ".py",
   "mimetype": "text/x-python",
   "name": "python",
   "nbconvert_exporter": "python",
   "pygments_lexer": "ipython3",
   "version": "3.12.0"
  }
 },
 "nbformat": 4,
 "nbformat_minor": 5
}
